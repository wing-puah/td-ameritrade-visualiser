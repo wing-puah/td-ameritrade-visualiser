{
 "cells": [
  {
   "cell_type": "markdown",
   "metadata": {},
   "source": [
    "<h2>Initialise files</h2>"
   ]
  },
  {
   "cell_type": "code",
   "execution_count": null,
   "metadata": {},
   "outputs": [],
   "source": [
    "import pandas as pd\n",
    "import numpy as np\n",
    "import math\n",
    "import os\n",
    "from functools import reduce\n",
    "from IPython.display import display\n",
    "import matplotlib.pyplot as plt\n",
    "import seaborn as sns"
   ]
  },
  {
   "cell_type": "markdown",
   "metadata": {},
   "source": [
    "Declare variable constants"
   ]
  },
  {
   "cell_type": "code",
   "execution_count": null,
   "metadata": {},
   "outputs": [],
   "source": [
    "FOLER_PATH = 'UOA_raw'\n",
    "OUTPUT_FILE_PATH = 'uoa_gen'"
   ]
  },
  {
   "cell_type": "markdown",
   "metadata": {},
   "source": [
    "Parse, combine and output data in all UOA files"
   ]
  },
  {
   "cell_type": "code",
   "execution_count": null,
   "metadata": {},
   "outputs": [],
   "source": [
    "def parse_data_df_to_excel(df): \n",
    "    df['Exp Date'] = pd.to_datetime(df['Exp Date']).dt.date\n",
    "    df['Trade date'] = pd.to_datetime(df['Trade date']).dt.date\n",
    "    data_df = df.loc[:].dropna()\n",
    "    data_df = data_df.astype({'DTE': int})\n",
    "    return data_df.values.tolist()"
   ]
  },
  {
   "cell_type": "code",
   "execution_count": null,
   "metadata": {},
   "outputs": [],
   "source": [
    "def parse_data_headers(df): \n",
    "    df.rename(columns={'Time': 'Trade date'}, inplace=True)\n",
    "    return df.columns.values.tolist()"
   ]
  },
  {
   "cell_type": "code",
   "execution_count": null,
   "metadata": {},
   "outputs": [],
   "source": [
    "import csv\n",
    "\n",
    "columns_headers = [] \n",
    "data = []\n",
    "\n",
    "for entry in os.listdir(FOLER_PATH):\n",
    "    file_path = os.path.join(FOLER_PATH, entry)\n",
    "    print(file_path)\n",
    "    if os.path.isfile(file_path):\n",
    "        df = pd.read_csv(file_path)\n",
    "        column_headers = parse_data_headers(df)\n",
    "        data.extend(parse_data_df_to_excel(df))\n",
    "\n",
    "# flatten as single level array \n",
    "all_data = []\n",
    "all_data.extend([column_headers])\n",
    "all_data.extend(data)\n",
    "\n",
    "print(all_data[0])\n",
    "print(all_data[1])\n",
    "\n",
    "output_file = open(f'{OUTPUT_FILE_PATH}.csv', 'w',  newline='')\n",
    "writer =  csv.writer(output_file)\n",
    "writer.writerows(all_data)\n",
    "output_file.close()"
   ]
  },
  {
   "cell_type": "markdown",
   "metadata": {},
   "source": [
    "<h2>ETL data</h2>"
   ]
  },
  {
   "cell_type": "markdown",
   "metadata": {},
   "source": [
    "Display some data for visual check "
   ]
  },
  {
   "cell_type": "code",
   "execution_count": null,
   "metadata": {},
   "outputs": [],
   "source": [
    "df = pd.read_csv(f'{OUTPUT_FILE_PATH}.csv')\n",
    "display(df.head())\n",
    "display(df.info())"
   ]
  },
  {
   "cell_type": "markdown",
   "metadata": {},
   "source": [
    "<h3>Sort and add useful columns</h3>"
   ]
  },
  {
   "cell_type": "markdown",
   "metadata": {},
   "source": [
    "\"\"\"\n",
    "add vol * mid \n",
    "arrange according to ticker / DTE / type\n",
    "calculate total call + put \n",
    "\"\"\""
   ]
  },
  {
   "cell_type": "code",
   "execution_count": null,
   "metadata": {},
   "outputs": [],
   "source": [
    "df = df.sort_values(['Symbol', 'DTE', 'Type'], ascending=True)\n",
    "df['Amount'] = df['Volume'] * df['Midpoint']\n",
    "display(df)"
   ]
  },
  {
   "cell_type": "markdown",
   "metadata": {},
   "source": [
    "Replace file"
   ]
  },
  {
   "cell_type": "code",
   "execution_count": null,
   "metadata": {},
   "outputs": [],
   "source": [
    "df.to_csv(f'{OUTPUT_FILE_PATH}.csv')"
   ]
  },
  {
   "cell_type": "markdown",
   "metadata": {},
   "source": [
    "<h3>Daily trade put-call charts</h3>"
   ]
  },
  {
   "cell_type": "code",
   "execution_count": null,
   "metadata": {},
   "outputs": [],
   "source": [
    "daily_group = df.groupby([\"Trade date\", \"Type\"]).agg({'Amount': 'sum'})\n",
    "daily_group = daily_group.reset_index()\n",
    "daily_group"
   ]
  },
  {
   "cell_type": "code",
   "execution_count": null,
   "metadata": {},
   "outputs": [],
   "source": [
    "def line_plot(data): \n",
    "    fig = plt.figure(figsize=(20, 6))\n",
    "    sns.lineplot(data=data, x=\"Trade date\", y=\"Amount\", hue=\"Type\")\n",
    "    plt.show()\n",
    "    \n",
    "line_plot(daily_group)"
   ]
  }
 ],
 "metadata": {
  "kernelspec": {
   "display_name": "Python 3",
   "language": "python",
   "name": "python3"
  },
  "language_info": {
   "codemirror_mode": {
    "name": "ipython",
    "version": 3
   },
   "file_extension": ".py",
   "mimetype": "text/x-python",
   "name": "python",
   "nbconvert_exporter": "python",
   "pygments_lexer": "ipython3",
   "version": "3.8.5"
  }
 },
 "nbformat": 4,
 "nbformat_minor": 4
}
