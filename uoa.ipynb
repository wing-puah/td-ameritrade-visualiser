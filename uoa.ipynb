{
 "cells": [
  {
   "cell_type": "markdown",
   "metadata": {},
   "source": [
    "<h2>Initialise files</h2>"
   ]
  },
  {
   "cell_type": "code",
   "execution_count": 7,
   "metadata": {},
   "outputs": [],
   "source": [
    "import pandas as pd\n",
    "import numpy as np\n",
    "import math\n",
    "import os\n",
    "from functools import reduce"
   ]
  },
  {
   "cell_type": "markdown",
   "metadata": {},
   "source": [
    "Declare variable constants"
   ]
  },
  {
   "cell_type": "code",
   "execution_count": 2,
   "metadata": {},
   "outputs": [],
   "source": [
    "FOLER_PATH = 'UOA_raw'\n",
    "OUTPUT_FILE_PATH = 'uoa_gen'"
   ]
  },
  {
   "cell_type": "markdown",
   "metadata": {},
   "source": [
    "Parse, combine and output data in all UOA files"
   ]
  },
  {
   "cell_type": "code",
   "execution_count": 30,
   "metadata": {},
   "outputs": [],
   "source": [
    "import csv\n",
    "\n",
    "columns_headers = [] \n",
    "data = []\n",
    "\n",
    "for entry in os.listdir(FOLER_PATH):\n",
    "    file_path = os.path.join(FOLER_PATH, entry)\n",
    "    \n",
    "    if os.path.isfile(file_path):\n",
    "        df = pd.read_csv(file_path)\n",
    "        column_headers = df.columns.values.tolist()\n",
    "        data.extend(df.loc[:].values.tolist())\n",
    "\n",
    "# flatten as single level array \n",
    "all_data = []\n",
    "all_data.extend([column_headers])\n",
    "all_data.extend(data)\n",
    "\n",
    "output_file = open(f'{OUTPUT_FILE_PATH}.csv', 'w',  newline='')\n",
    "writer =  csv.writer(output_file)\n",
    "writer.writerows(all_data)\n",
    "output_file.close()"
   ]
  },
  {
   "cell_type": "markdown",
   "metadata": {},
   "source": [
    "<h2>ETL data</h2>"
   ]
  },
  {
   "cell_type": "code",
   "execution_count": null,
   "metadata": {},
   "outputs": [],
   "source": []
  },
  {
   "cell_type": "markdown",
   "metadata": {},
   "source": [
    "\"\"\"\n",
    "add vol * mid \n",
    "arrange according to ticker / DTE / type\n",
    "calculate total call + put \n",
    "\"\"\""
   ]
  }
 ],
 "metadata": {
  "kernelspec": {
   "display_name": "Python 3",
   "language": "python",
   "name": "python3"
  },
  "language_info": {
   "codemirror_mode": {
    "name": "ipython",
    "version": 3
   },
   "file_extension": ".py",
   "mimetype": "text/x-python",
   "name": "python",
   "nbconvert_exporter": "python",
   "pygments_lexer": "ipython3",
   "version": "3.8.5"
  }
 },
 "nbformat": 4,
 "nbformat_minor": 4
}
