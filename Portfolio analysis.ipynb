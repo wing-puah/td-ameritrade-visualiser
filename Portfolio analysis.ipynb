{
 "cells": [
  {
   "cell_type": "markdown",
   "metadata": {},
   "source": [
    "<h2>Initialise files</h2>"
   ]
  },
  {
   "cell_type": "code",
   "execution_count": null,
   "metadata": {},
   "outputs": [],
   "source": [
    "import pandas as pd\n",
    "import math\n",
    "from functools import reduce"
   ]
  },
  {
   "cell_type": "markdown",
   "metadata": {},
   "source": [
    "Declare variables constant"
   ]
  },
  {
   "cell_type": "code",
   "execution_count": null,
   "metadata": {},
   "outputs": [],
   "source": [
    "FILE_PATH = \"2021-06-27-AccountStatement.csv\"\n",
    "TABLE_NAMES = ['Cash Balance', 'Account Trade History', 'Equities', 'Options', 'Profits and Losses']\n",
    "\n",
    "def parse_key(key): \n",
    "    return key.lower().replace(\" \", \"_\")\n",
    "\n",
    "def build_map(acc, cur): \n",
    "    new_acc = {parse_key(acc): acc} if isinstance(acc, str) else acc  \n",
    "    key = parse_key(cur)\n",
    "    new_acc[key] = cur\n",
    "    return new_acc\n",
    "\n",
    "table_map = reduce(build_map, TABLE_NAMES)   \n",
    "print(table_map)\n",
    "\n",
    "table_length = len(TABLE_NAMES)\n",
    "\n",
    "def parse_row_list(row_list, table_name): \n",
    "    \"\"\"\n",
    "    Remove last row for the tables with total, \n",
    "    as this will disrupt with the data transformation process.\n",
    "    i.e.  cash balance, equities and profits and losses \n",
    "    \"\"\"\n",
    "    table_names_to_remove = ['Cash Balance', 'Equities', 'Profits and Losses']\n",
    "    \n",
    "    if table_name in table_names_to_remove: \n",
    "        row_list.pop()\n",
    "        return row_list \n",
    "    \n",
    "    return row_list\n",
    "    "
   ]
  },
  {
   "cell_type": "code",
   "execution_count": null,
   "metadata": {},
   "outputs": [],
   "source": [
    "import csv\n",
    "\n",
    "def split_csv(csv_path, table_names): \n",
    "    tables_infos = detect_tables_from_csv(csv_path, table_names)\n",
    "    \n",
    "def create_output_file_and_return_writer(file_name): \n",
    "    row_list = []\n",
    "    output_file = open(f'generated/{file_name}.csv', 'w',  newline='')\n",
    "    writer =  csv.writer(output_file)\n",
    "    return [row_list, output_file, writer]\n",
    "    \n",
    "def detect_tables_from_csv(csv_path, table_names): \n",
    "    file = open(csv_path, 'r')\n",
    "    csv_reader = csv.reader(file)\n",
    "    \n",
    "    current_table_idx = 0\n",
    "    [row_list, output_file, writer] = create_output_file_and_return_writer(TABLE_NAMES[current_table_idx])\n",
    "    push_to_table = False \n",
    "    \n",
    "    for  row in csv_reader: \n",
    "        if len(row) == 0: \n",
    "            if push_to_table == True:\n",
    "                push_to_table = False\n",
    "                parsed_rl = parse_row_list(row_list, TABLE_NAMES[current_table_idx])\n",
    "                writer.writerows(parsed_rl)\n",
    "                output_file.close()\n",
    "                current_table_idx += 1 \n",
    "                if(current_table_idx < table_length):\n",
    "                    [row_list, output_file, writer] = create_output_file_and_return_writer(TABLE_NAMES[current_table_idx])\n",
    "            continue\n",
    "        \n",
    "        first_data = row[0]\n",
    "        if push_to_table == True: \n",
    "            # for some reasons all the \n",
    "            row_itme = first_data.split(',')\n",
    "            row_list.append(row)\n",
    "            continue\n",
    "        \n",
    "            \n",
    "        if first_data in TABLE_NAMES: \n",
    "            push_to_table = True\n",
    "            continue "
   ]
  },
  {
   "cell_type": "code",
   "execution_count": null,
   "metadata": {},
   "outputs": [],
   "source": [
    "split_csv(FILE_PATH, TABLE_NAMES)"
   ]
  },
  {
   "cell_type": "markdown",
   "metadata": {},
   "source": [
    "<h2>Create individual ticker chart</h2>"
   ]
  },
  {
   "cell_type": "markdown",
   "metadata": {},
   "source": [
    "<strong>Initialise dataframe</strong>"
   ]
  },
  {
   "cell_type": "code",
   "execution_count": null,
   "metadata": {},
   "outputs": [],
   "source": [
    "FILE_PATH = f'generated/{table_map[\"cash_balance\"]}.csv'\n",
    "df = pd.read_csv(FILE_PATH)\n",
    "df.info()"
   ]
  },
  {
   "cell_type": "code",
   "execution_count": null,
   "metadata": {},
   "outputs": [],
   "source": [
    "def convert_currency(value): \n",
    "    \"\"\"\n",
    "    Convert string number value to float \n",
    "    - Remove commas \n",
    "    - Convert to float type\n",
    "    \"\"\"\n",
    "    if isinstance(value, float): \n",
    "        return value\n",
    "    \n",
    "    new_val = value.replace(',','')\n",
    "    return float(new_val)"
   ]
  },
  {
   "cell_type": "code",
   "execution_count": null,
   "metadata": {},
   "outputs": [],
   "source": [
    "\"\"\"\n",
    "example description: \n",
    "SOLD -1 VERTICAL PINS 100 19 FEB 21 60/55 PUT @.94 PHLX,\n",
    "BOT +5 BABA @229.40,\n",
    "SOLD -1 NIO 100 19 FEB 21 40 PUT @2.23 BOX,\n",
    "\"\"\"\n",
    "\n",
    "# net_qty refers to the first qty with the +|- symbol \n",
    "net_qty_regex = '^(?!REMOVAL).+((\\+|-)\\d+)'\n",
    "\n",
    "ignore_removal_regex = '^(?!REMOVAL).+'\n",
    "\n",
    "# qty_with_weekly refers to the numerical qty just before the date\n",
    "qty_with_weekly_regex = f'\\s\\d+(?:\\s\\(Weeklys\\))?'\n",
    "date_regex = '\\s(([0][1-9]|[12]?\\d|3[01])\\s(JAN|FEB|MA[RY]|APR|JU[NL]|AUG|SEPT?|OCT|NOV|DEC)\\s(\\d{2}))'\n",
    "symbol_regex = f'\\s([A-Z]+){qty_with_weekly_regex}{date_regex}'\n",
    "\n",
    "ignore_option_removal_date_regex = f'{ignore_removal_regex}{date_regex}'\n",
    "\n",
    "spread_regex = f'\\d\\s([A-Z\\s]+){symbol_regex}'\n",
    "assignment_regex = 'upon option (assignment)'\n",
    "naked_option_regex = f'{ignore_removal_regex}([A-Z]+){qty_with_weekly_regex}{date_regex}'\n",
    "\n",
    "symbol_options_regex = f'{ignore_removal_regex}\\s([A-Z]+){qty_with_weekly_regex}{date_regex}'\n",
    "symbol_share_regex = '(?:\\+|-)\\d+\\s([A-Z]+)\\s@\\d+'"
   ]
  },
  {
   "cell_type": "code",
   "execution_count": null,
   "metadata": {},
   "outputs": [],
   "source": [
    "import re \n",
    "\n",
    "def base_parsed_list(regex_list, value): \n",
    "    parsed = None \n",
    "    for single_regex in regex_list: \n",
    "        parsed_r = re.search(single_regex['regex'], value, single_regex['flag']) if 'flag' in single_regex \\\n",
    "                    else re.search(single_regex['regex'], value)\n",
    "        if parsed_r: \n",
    "            parsed = single_regex['value'] if 'value' in single_regex else parsed_r.group(1)\n",
    "            break \n",
    "    return parsed \n",
    "\n",
    "trade_type_list = [\n",
    "    {'regex': spread_regex}, \n",
    "    {'regex': assignment_regex, 'flag': re.IGNORECASE}, \n",
    "    {'regex': naked_option_regex, 'flag': re.IGNORECASE, 'value': 'NAKED'}, \n",
    "    {'regex': symbol_share_regex, 'value': 'SHARE'}\n",
    "]\n",
    "\n",
    "def parse_trade_type(value): \n",
    "    return base_parsed_list(trade_type_list, value)\n",
    "\n",
    "symbol_list = [\n",
    "    {'regex': symbol_options_regex}, \n",
    "    {'regex': symbol_share_regex}, \n",
    "]\n",
    "        \n",
    "def parse_symbol(value): \n",
    "    return base_parsed_list(symbol_list, value)\n"
   ]
  },
  {
   "cell_type": "markdown",
   "metadata": {},
   "source": [
    "<h3>Parse description into relevant columns</h3>"
   ]
  },
  {
   "cell_type": "code",
   "execution_count": null,
   "metadata": {},
   "outputs": [],
   "source": [
    "df['Datetime'] = pd.to_datetime(df['DATE'] +' ' + df['TIME'])\n",
    "df['AMOUNT'] = df['AMOUNT'].apply(lambda x: x if isinstance(x, str) == False and math.isnan(x) else convert_currency(x)) \n",
    "\n",
    "df['Symbol'] = df['DESCRIPTION'].apply(parse_symbol)\n",
    "df['Trade Type'] = df['DESCRIPTION'].apply(parse_trade_type)\n",
    "df['Qty'] = df['DESCRIPTION'].str.extract(net_qty_regex, expand=True)[0]\n",
    "df['Exp'] =  df['DESCRIPTION'].str.extract(ignore_option_removal_date_regex, expand=True)[0]\n",
    "\n",
    "df.head()"
   ]
  },
  {
   "cell_type": "markdown",
   "metadata": {},
   "source": [
    "<h2>Generate new excel sheet</h2>"
   ]
  },
  {
   "cell_type": "code",
   "execution_count": null,
   "metadata": {},
   "outputs": [],
   "source": [
    "df.to_csv('generated/output.csv')"
   ]
  },
  {
   "cell_type": "code",
   "execution_count": null,
   "metadata": {},
   "outputs": [],
   "source": [
    "df.info()"
   ]
  },
  {
   "cell_type": "code",
   "execution_count": null,
   "metadata": {},
   "outputs": [],
   "source": [
    "unique_tickers = df['Symbol'].dropna().unique()\n",
    "print(unique_tickers)"
   ]
  },
  {
   "cell_type": "markdown",
   "metadata": {},
   "source": [
    "<strong>Initialise variables</strong>"
   ]
  },
  {
   "cell_type": "code",
   "execution_count": null,
   "metadata": {},
   "outputs": [],
   "source": [
    "TICKER = \"NIO\"\n",
    "GREEN = '#29EA38'\n",
    "RED = '#FB3C62'"
   ]
  },
  {
   "cell_type": "markdown",
   "metadata": {},
   "source": [
    "<strong>Retrieve chart data</strong>"
   ]
  },
  {
   "cell_type": "code",
   "execution_count": null,
   "metadata": {},
   "outputs": [],
   "source": [
    "ticker_data = df[df['Symbol'] == TICKER]\n",
    "ticker_data.head()"
   ]
  },
  {
   "cell_type": "code",
   "execution_count": null,
   "metadata": {},
   "outputs": [],
   "source": [
    "import matplotlib.pyplot as plt\n",
    "import seaborn as sns\n",
    "import waterfall_chart\n",
    "\n",
    "def bar_chart(chart_df): \n",
    "    fig = plt.figure(figsize=(22, 6))\n",
    "    \n",
    "    index = chart_df['Datetime'].values\n",
    "    data = {'AMOUNT': chart_df['AMOUNT'].values}\n",
    "    \n",
    "    new_dataframe = pd.DataFrame(data=data, index=index)\n",
    "    new_dataframe['positive'] = new_dataframe['AMOUNT'] > 0\n",
    "    color_palette = tuple(new_dataframe['positive'].apply(colored).values)\n",
    "    \n",
    "    x_values = new_dataframe.reset_index()['index'].apply(transform_to_text).values\n",
    "\n",
    "    plt.bar(x_values, data['AMOUNT'], color=color_palette)\n",
    "    plt.xlabel('Datetime')\n",
    "    plt.xticks(rotation=90)\n",
    "    plt.ylabel('P&L')\n",
    "    plt.show()\n",
    "    \n",
    "    \n",
    "def transform_to_text(data):\n",
    "    return f'{data}'\n",
    "\n",
    "def colored(data): \n",
    "    return 'g' if data else 'r'\n",
    "    \n",
    "bar_chart(ticker_data)"
   ]
  },
  {
   "cell_type": "code",
   "execution_count": null,
   "metadata": {},
   "outputs": [],
   "source": [
    "'''\n",
    "Copied from https://github.com/chrispaulca/waterfall/blob/master/waterfall_chart.py\n",
    "If we are to use the installed package, for some reason fig size can't be change, so we run the code here. \n",
    "'''\n",
    "\n",
    "'''\n",
    "A function that attempts to generate a standard waterfall chart in generic Python. Requires two sequences,\n",
    "one of labels and one of values, ordered accordingly.\n",
    "'''\n",
    "\n",
    "\n",
    "from matplotlib.ticker import FuncFormatter\n",
    "import numpy as np\n",
    "import pandas as pd\n",
    "import matplotlib.pyplot as plt\n",
    "import matplotlib.lines as lines\n",
    "\n",
    "#------------------------------------------\n",
    "\n",
    "def plot(index, data, Title=\"\", x_lab=\"\", y_lab=\"\",\n",
    "              formatting = \"{:,.1f}\", green_color='#29EA38', red_color='#FB3C62', blue_color='#24CAFF',\n",
    "             sorted_value = False, threshold=None, other_label='other', net_label='net', \n",
    "             rotation_value = 30, blank_color=(0,0,0,0), figsize=(10,10)):\n",
    "    '''\n",
    "    Given two sequences ordered appropriately, generate a standard waterfall chart.\n",
    "    Optionally modify the title, axis labels, number formatting, bar colors, \n",
    "    increment sorting, and thresholding. Thresholding groups lower magnitude changes\n",
    "    into a combined group to display as a single entity on the chart.\n",
    "    '''\n",
    "    \n",
    "    #convert data and index to np.array\n",
    "    index=np.array(index)\n",
    "    data=np.array(data)\n",
    "    \n",
    "    # wip\n",
    "    #sorted by absolute value \n",
    "    if sorted_value: \n",
    "        abs_data = abs(data)\n",
    "        data_order = np.argsort(abs_data)[::-1]\n",
    "        data = data[data_order]\n",
    "        index = index[data_order]\n",
    "    \n",
    "    #group contributors less than the threshold into 'other' \n",
    "    if threshold:\n",
    "        \n",
    "        abs_data = abs(data)\n",
    "        threshold_v = abs_data.max()*threshold\n",
    "        \n",
    "        if threshold_v > abs_data.min():\n",
    "            index = np.append(index[abs_data>=threshold_v],other_label)\n",
    "            data = np.append(data[abs_data>=threshold_v],sum(data[abs_data<threshold_v]))\n",
    "    \n",
    "    changes = {'amount' : data}\n",
    "    \n",
    "    #define format formatter\n",
    "    def money(x, pos):\n",
    "        'The two args are the value and tick position'\n",
    "        return formatting.format(x)\n",
    "    formatter = FuncFormatter(money)\n",
    "    \n",
    "    fig, ax = plt.subplots(figsize=figsize)\n",
    "    ax.yaxis.set_major_formatter(formatter)\n",
    "\n",
    "    #Store data and create a blank series to use for the waterfall\n",
    "    trans = pd.DataFrame(data=changes,index=index)\n",
    "    blank = trans.amount.cumsum().shift(1).fillna(0)\n",
    "    \n",
    "    trans['positive'] = trans['amount'] > 0\n",
    "\n",
    "    #Get the net total number for the final element in the waterfall\n",
    "    total = trans.sum().amount\n",
    "    trans.loc[net_label]= total\n",
    "    blank.loc[net_label] = total\n",
    "\n",
    "    #The steps graphically show the levels as well as used for label placement\n",
    "    step = blank.reset_index(drop=True).repeat(3).shift(-1)\n",
    "    step[1::3] = np.nan\n",
    "\n",
    "    #When plotting the last element, we want to show the full bar,\n",
    "    #Set the blank to 0\n",
    "    blank.loc[net_label] = 0\n",
    "    \n",
    "    #define bar colors for net bar\n",
    "    trans.loc[trans['positive'] > 1, 'positive'] = 99\n",
    "    trans.loc[trans['positive'] < 0, 'positive'] = 99\n",
    "    trans.loc[(trans['positive'] > 0) & (trans['positive'] < 1), 'positive'] = 99\n",
    "    \n",
    "    trans['color'] = trans['positive']\n",
    "    \n",
    "    trans.loc[trans['positive'] == 1, 'color'] = green_color\n",
    "    trans.loc[trans['positive'] == 0, 'color'] = red_color\n",
    "    trans.loc[trans['positive'] == 99, 'color'] = blue_color\n",
    "    \n",
    "    my_colors = list(trans.color)\n",
    "    \n",
    "    #Plot and label\n",
    "    my_plot = plt.bar(range(0,len(trans.index)), blank, width=0.5, color=blank_color)\n",
    "    plt.bar(range(0,len(trans.index)), trans.amount, width=0.6,\n",
    "             bottom=blank, color=my_colors)       \n",
    "                                   \n",
    "    \n",
    "    # connecting lines - figure out later\n",
    "    #my_plot = lines.Line2D(step.index, step.values, color = \"gray\")\n",
    "    #my_plot = lines.Line2D((3,3), (4,4))\n",
    "    \n",
    "    #axis labels\n",
    "    plt.xlabel(\"\\n\" + x_lab)\n",
    "    plt.ylabel(y_lab + \"\\n\")\n",
    "\n",
    "    #Get the y-axis position for the labels\n",
    "    y_height = trans.amount.cumsum().shift(1).fillna(0)\n",
    "    \n",
    "    temp = list(trans.amount)\n",
    "    \n",
    "    # create dynamic chart range\n",
    "    for i in range(len(temp)):\n",
    "        if (i > 0) & (i < (len(temp) - 1)):\n",
    "            temp[i] = temp[i] + temp[i-1]\n",
    "    \n",
    "    trans['temp'] = temp\n",
    "            \n",
    "    plot_max = trans['temp'].max()\n",
    "    plot_min = trans['temp'].min()\n",
    "    \n",
    "    #Make sure the plot doesn't accidentally focus only on the changes in the data\n",
    "    if all(i >= 0 for i in temp):\n",
    "        plot_min = 0\n",
    "    if all(i < 0 for i in temp):\n",
    "        plot_max = 0\n",
    "    \n",
    "    if abs(plot_max) >= abs(plot_min):\n",
    "        maxmax = abs(plot_max)   \n",
    "    else:\n",
    "        maxmax = abs(plot_min)\n",
    "        \n",
    "    pos_offset = maxmax / 40\n",
    "    \n",
    "    plot_offset = maxmax / 15 ## needs to me cumulative sum dynamic\n",
    "\n",
    "    #Start label loop\n",
    "    loop = 0\n",
    "    for index, row in trans.iterrows():\n",
    "        # For the last item in the list, we don't want to double count\n",
    "        if row['amount'] == total:\n",
    "            y = y_height[loop]\n",
    "        else:\n",
    "            y = y_height[loop] + row['amount']\n",
    "        # Determine if we want a neg or pos offset\n",
    "        if row['amount'] > 0:\n",
    "            y += (pos_offset*2)\n",
    "            plt.annotate(formatting.format(row['amount']),(loop,y),ha=\"center\", color = 'g', fontsize=9)\n",
    "        else:\n",
    "            y -= (pos_offset*4)\n",
    "            plt.annotate(formatting.format(row['amount']),(loop,y),ha=\"center\", color = 'r', fontsize=9)\n",
    "        loop+=1\n",
    "\n",
    "    #Scale up the y axis so there is room for the labels\n",
    "    plt.ylim(plot_min-round(3.6*plot_offset, 7),plot_max+round(3.6*plot_offset, 7))\n",
    "    \n",
    "    #Rotate the labels\n",
    "    plt.xticks(range(0,len(trans)), trans.index, rotation=rotation_value)\n",
    "    \n",
    "    #add zero line and title\n",
    "    plt.axhline(0, color='black', linewidth = 0.6, linestyle=\"dashed\")\n",
    "    plt.title(Title)\n",
    "    plt.tight_layout()\n",
    "\n",
    "    return fig, ax"
   ]
  },
  {
   "cell_type": "code",
   "execution_count": null,
   "metadata": {},
   "outputs": [],
   "source": [
    "index = ticker_data['Datetime'].values\n",
    "data = ticker_data['AMOUNT'].values\n",
    "\n",
    "waterfall_plot = plot(index=index, data=data, rotation_value=90, Title=TICKER, x_lab=\"Datetime\", y_lab=\"Amount\", figsize=(22,8))"
   ]
  },
  {
   "cell_type": "markdown",
   "metadata": {},
   "source": [
    "<h3>Monthly ROI</h3>"
   ]
  }
 ],
 "metadata": {
  "kernelspec": {
   "display_name": "Python 3",
   "language": "python",
   "name": "python3"
  },
  "language_info": {
   "codemirror_mode": {
    "name": "ipython",
    "version": 3
   },
   "file_extension": ".py",
   "mimetype": "text/x-python",
   "name": "python",
   "nbconvert_exporter": "python",
   "pygments_lexer": "ipython3",
   "version": "3.8.5"
  }
 },
 "nbformat": 4,
 "nbformat_minor": 4
}
